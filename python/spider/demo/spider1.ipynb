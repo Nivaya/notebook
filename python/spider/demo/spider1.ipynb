{
 "cells": [
  {
   "cell_type": "code",
   "execution_count": 1,
   "metadata": {},
   "outputs": [],
   "source": [
    "import requests\n",
    "import re"
   ]
  },
  {
   "cell_type": "code",
   "execution_count": 2,
   "metadata": {},
   "outputs": [],
   "source": [
    "requests.packages.urllib3.disable_warnings()\n",
    "url = 'https://www.essilorchina.com/zh-hans/corporate-news'\n",
    "r = requests.get(url, verify=False)"
   ]
  },
  {
   "cell_type": "code",
   "execution_count": 3,
   "metadata": {},
   "outputs": [],
   "source": [
    "rule = r'<span class=\"date-display-single\" property=\"dc:date\" datatype=\"xsd:dateTime\" content=\".{25}\">(\\d{2}\\/\\d{2}\\/\\d{4})</span>\\s+<p class=\"rub\"><a class=\"link\" href=\".*\">(.*)</a></p>'"
   ]
  },
  {
   "cell_type": "code",
   "execution_count": 5,
   "metadata": {},
   "outputs": [
    {
     "data": {
      "text/plain": [
       "[('09/01/2020', '健康中国论坛举办首个视光分论坛，依视路呼吁各方共建近视防控生态系统'),\n",
       " ('13/12/2019', ' \\xa0产、学、研深度合作，共筑清晰视界'),\n",
       " ('03/12/2019', '专注近视管理，更好服务中国市场！'),\n",
       " ('22/11/2019', '依视路在《金融时报》2020年度企业评选中排名第62位'),\n",
       " ('06/11/2019', '聚焦眼健康 看见美好“视”界'),\n",
       " ('23/08/2019', '依视路陆逊梯卡获评《财富》2019“改变世界的企业”'),\n",
       " ('25/07/2019', '近视管理白皮书零售版研讨会'),\n",
       " ('31/05/2019', '依视路青少年近视干预防治三年计划'),\n",
       " ('02/04/2019', '致力消除农村不良视力'),\n",
       " ('26/03/2019', '法国依视路引领行业创新，全新Crizal钻晶X系列上市')]"
      ]
     },
     "execution_count": 5,
     "metadata": {},
     "output_type": "execute_result"
    }
   ],
   "source": [
    "re.findall(rule, r.text)"
   ]
  },
  {
   "cell_type": "raw",
   "source": [],
   "metadata": {
    "collapsed": false
   }
  },
  {
   "cell_type": "raw",
   "metadata": {},
   "source": [
    "\n",
    "\n"
   ]
  },
  {
   "cell_type": "code",
   "execution_count": null,
   "metadata": {},
   "outputs": [],
   "source": []
  }
 ],
 "metadata": {
  "kernelspec": {
   "display_name": "Python 3",
   "language": "python",
   "name": "python3"
  },
  "language_info": {
   "codemirror_mode": {
    "name": "ipython",
    "version": 3
   },
   "file_extension": ".py",
   "mimetype": "text/x-python",
   "name": "python",
   "nbconvert_exporter": "python",
   "pygments_lexer": "ipython3",
   "version": "3.7.3"
  }
 },
 "nbformat": 4,
 "nbformat_minor": 2
}