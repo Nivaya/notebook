{
 "cells": [
  {
   "cell_type": "code",
   "execution_count": 1,
   "metadata": {},
   "outputs": [
    {
     "data": {
      "text/plain": [
       "2"
      ]
     },
     "execution_count": 1,
     "metadata": {},
     "output_type": "execute_result"
    }
   ],
   "source": [
    "def outer():\n",
    "    series = 1\n",
    "\n",
    "    def inner():\n",
    "        series = 2\n",
    "        return series\n",
    "\n",
    "    return inner\n",
    "\n",
    "outer()()"
   ]
  },
  {
   "cell_type": "code",
   "execution_count": 3,
   "metadata": {},
   "outputs": [
    {
     "data": {
      "text/plain": [
       "(3, [2])"
      ]
     },
     "execution_count": 3,
     "metadata": {},
     "output_type": "execute_result"
    }
   ],
   "source": [
    "def outer():\n",
    "    series = 1\n",
    "    l = []\n",
    "\n",
    "    def inner():\n",
    "#         nonlocal是用来改变变量的作用域的。本例中，nonlocal将outer函数里面的series变量的作用域变成了inner块中的区域\n",
    "#         否则使用不可变类型变量将会报错\n",
    "#         可变类型如[]内外是一个命名空间\n",
    "        nonlocal series\n",
    "        series = series + 2\n",
    "        l.append(2)\n",
    "        return series, l\n",
    "\n",
    "    return inner\n",
    "\n",
    "outer()()"
   ]
  },
  {
   "cell_type": "code",
   "execution_count": 8,
   "metadata": {},
   "outputs": [
    {
     "data": {
      "text/plain": [
       "2"
      ]
     },
     "execution_count": 8,
     "metadata": {},
     "output_type": "execute_result"
    }
   ],
   "source": [
    "def outer():\n",
    "    return series\n",
    "\n",
    "\n",
    "def inner():\n",
    "#     全局变量\n",
    "    global series\n",
    "    series = 2\n",
    "    return series\n",
    "\n",
    "\n",
    "inner()\n",
    "outer()"
   ]
  },
  {
   "cell_type": "code",
   "execution_count": null,
   "metadata": {},
   "outputs": [],
   "source": []
  }
 ],
 "metadata": {
  "kernelspec": {
   "display_name": "Python 3",
   "language": "python",
   "name": "python3"
  },
  "language_info": {
   "codemirror_mode": {
    "name": "ipython",
    "version": 3
   },
   "file_extension": ".py",
   "mimetype": "text/x-python",
   "name": "python",
   "nbconvert_exporter": "python",
   "pygments_lexer": "ipython3",
   "version": "3.7.4"
  }
 },
 "nbformat": 4,
 "nbformat_minor": 2
}
