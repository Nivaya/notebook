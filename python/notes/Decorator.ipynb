{
 "cells": [
  {
   "cell_type": "code",
   "execution_count": 3,
   "metadata": {},
   "outputs": [
    {
     "name": "stdout",
     "output_type": "stream",
     "text": [
      "导入时运行\n",
      "下面才开始运行\n",
      "main\n",
      "hello world\n",
      "3\n"
     ]
    }
   ],
   "source": [
    "import functools\n",
    "\n",
    "def decorator(func):\n",
    "    #导入时就运行\n",
    "    print('导入时运行')\n",
    "    @functools.wraps(func)\n",
    "    def wrapper(*args,**kw):\n",
    "        print(func.__name__)\n",
    "        func(*args,**kw)\n",
    "    return wrapper\n",
    "\n",
    "@decorator\n",
    "def main(x,y):\n",
    "    print('hello world')\n",
    "    print(x+y)\n",
    "    \n",
    "print('下面才开始运行')\n",
    "main(1,2)\n"
   ]
  },
  {
   "cell_type": "code",
   "execution_count": 3,
   "metadata": {},
   "outputs": [
    {
     "name": "stdout",
     "output_type": "stream",
     "text": [
      "main\n",
      "hello world\n",
      "3\n",
      "10 10\n"
     ]
    }
   ],
   "source": [
    "import functools\n",
    "\n",
    "def test(x,y):\n",
    "    def decorator(func):\n",
    "        @functools.wraps(func)\n",
    "        def wrapper(*args,**kw):\n",
    "            print(func.__name__)\n",
    "            func(*args,**kw)\n",
    "            print(x,y)\n",
    "        return wrapper\n",
    "    return decorator\n",
    "\n",
    "@test(10,10)\n",
    "def main(x,y):\n",
    "    print('hello world')\n",
    "    print(x+y)\n",
    "    \n",
    "\n",
    "main(1,2)"
   ]
  },
  {
   "cell_type": "code",
   "execution_count": 21,
   "metadata": {},
   "outputs": [
    {
     "name": "stdout",
     "output_type": "stream",
     "text": [
      "main\n",
      "hello world\n",
      "4\n"
     ]
    }
   ],
   "source": [
    "class Decorator:\n",
    "    def __init__(self,func):\n",
    "        self.func=func\n",
    "    \n",
    "    def __call__(self,*args,**kw):\n",
    "        print(self.func.__name__)\n",
    "        self.func(*args,**kw)\n",
    "\n",
    "\n",
    "        \n",
    "@Decorator\n",
    "def main(x,y):\n",
    "    print('hello world')\n",
    "    print(x+y)\n",
    "\n",
    "    \n",
    "main(2,2)"
   ]
  },
  {
   "cell_type": "code",
   "execution_count": 15,
   "metadata": {},
   "outputs": [
    {
     "name": "stdout",
     "output_type": "stream",
     "text": [
      "main\n",
      "hello world\n",
      "4\n",
      "10 10\n"
     ]
    }
   ],
   "source": [
    "class Decorator:\n",
    "    def __init__(self,x,y):\n",
    "        self.x=x\n",
    "        self.y=y\n",
    "    \n",
    "    def __call__(self,func):\n",
    "        def wrapper(*args,**kw):\n",
    "            print(func.__name__)\n",
    "            func(*args,**kw)\n",
    "            print(self.x,self.y)\n",
    "        return wrapper\n",
    "\n",
    "        \n",
    "@Decorator(10,10)\n",
    "def main(x,y):\n",
    "    print('hello world')\n",
    "    print(x+y)\n",
    "\n",
    "    \n",
    "main(2,2)"
   ]
  },
  {
   "cell_type": "code",
   "execution_count": null,
   "metadata": {},
   "outputs": [],
   "source": []
  }
 ],
 "metadata": {
  "kernelspec": {
   "display_name": "Python 3",
   "language": "python",
   "name": "python3"
  },
  "language_info": {
   "codemirror_mode": {
    "name": "ipython",
    "version": 3
   },
   "file_extension": ".py",
   "mimetype": "text/x-python",
   "name": "python",
   "nbconvert_exporter": "python",
   "pygments_lexer": "ipython3",
   "version": "3.7.3"
  }
 },
 "nbformat": 4,
 "nbformat_minor": 2
}
