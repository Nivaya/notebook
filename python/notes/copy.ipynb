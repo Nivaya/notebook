{
 "cells": [
  {
   "cell_type": "code",
   "execution_count": 2,
   "metadata": {},
   "outputs": [
    {
     "name": "stdout",
     "output_type": "stream",
     "text": [
      "a: 1812281362952\n",
      "b: 1812281363016\n",
      "l1: 1812281363144\n",
      "l2: 1812280481736\n",
      "l3: 1812281363720\n",
      "l1: 1812281363208\n",
      "l2: 1812281363208\n",
      "l3: 1812281363208\n",
      "l1: [3, [66, 44], (7, 8, 9), 100]\n",
      "l2: [3, [66, 44], (7, 8, 9)]\n",
      "l1: [3, [66, 44, 33, 22], (7, 8, 9), 100]\n",
      "l2: [3, [66, 44, 33, 22], (7, 8, 9, 10, 11)]\n"
     ]
    }
   ],
   "source": [
    "import copy\n",
    "\n",
    "a=[1,2]\n",
    "b=[1,2]\n",
    "print('a:', id(a))\n",
    "print('b:', id(b))\n",
    "l1 = [3, [66, 55, 44], (7, 8, 9)]\n",
    "l2 = copy.copy(l1) # ➊\n",
    "l3 = list(l1) # ➊\n",
    "print('l1:', id(l1))\n",
    "print('l2:', id(l2))\n",
    "print('l3:', id(l3))\n",
    "print('l1:', id(l1[1]))\n",
    "print('l2:', id(l2[1]))\n",
    "print('l3:', id(l3[1]))\n",
    "l1.append(100) # ➋\n",
    "l1[1].remove(55) # ➌\n",
    "print('l1:', l1)\n",
    "print('l2:', l2)\n",
    "l2[1] += [33, 22] # ➍\n",
    "l2[2] += (10, 11) # ➎\n",
    "print('l1:', l1)\n",
    "print('l2:', l2)"
   ]
  },
  {
   "cell_type": "code",
   "execution_count": 1,
   "metadata": {},
   "outputs": [],
   "source": [
    "import copy\n",
    "\n",
    "o = [1, 2, 3, [4]]\n",
    "a = o\n",
    "b = copy.copy(o)\n",
    "c = copy.deepcopy(o)"
   ]
  },
  {
   "cell_type": "code",
   "execution_count": 2,
   "metadata": {},
   "outputs": [
    {
     "name": "stdout",
     "output_type": "stream",
     "text": [
      "True\n",
      "True\n",
      "False\n",
      "False\n",
      "False\n",
      "o: id=2305980518472, o=[1, 2, 3, [4]]\n",
      "o: id=2305980518472, o=[1, 2, 3, [4, 5], 4]\n",
      "a: id=2305980518472, a=[1, 2, 3, [4, 5], 4]\n",
      "b: id=2305980518792, b=[1, 2, 3, [4, 5]]\n",
      "c: id=2305980501960, c=[1, 2, 3, [4]]\n"
     ]
    }
   ],
   "source": [
    "print(a == b == c)\n",
    "print(a is o)\n",
    "print(a is b)\n",
    "print(a is c)\n",
    "print(b is c)\n",
    "\n",
    "print('o: id=%s, o=%s' % (id(o), o))\n",
    "o.append(4)\n",
    "o[3].append(5)\n",
    "\n",
    "print('o: id=%s, o=%s' % (id(o), o))\n",
    "print('a: id=%s, a=%s' % (id(a), a))\n",
    "print('b: id=%s, b=%s' % (id(b), b))\n",
    "print('c: id=%s, c=%s' % (id(c), c))"
   ]
  },
  {
   "cell_type": "code",
   "execution_count": 4,
   "metadata": {},
   "outputs": [
    {
     "name": "stdout",
     "output_type": "stream",
     "text": [
      "['Alice']\n",
      "1812281363464\n",
      "1812281363464\n"
     ]
    }
   ],
   "source": [
    "class HauntedBus:\n",
    "    def __init__(self, passengers=[]):\n",
    "        self.passengers = passengers\n",
    "        #正确的做法应该是为传入实参的形参创建副本\n",
    "#         self.passengers = list(passengers)\n",
    "\n",
    "    def pick(self, name):\n",
    "        self.passengers.append(name)\n",
    "\n",
    "    def drop(self, name):\n",
    "        self.passengers.remove(name)\n",
    "\n",
    "\n",
    "bus1 = HauntedBus(['Alice'])\n",
    "bus1.drop('Alice')\n",
    "bus1.pick('Bill')\n",
    "bus2 = HauntedBus()\n",
    "bus2.pick('Alice')\n",
    "bus3 = HauntedBus()\n",
    "\n",
    "print(bus3.passengers)\n",
    "print(id(bus3.passengers))\n",
    "print(id(bus2.passengers))"
   ]
  },
  {
   "cell_type": "code",
   "execution_count": null,
   "metadata": {},
   "outputs": [],
   "source": []
  }
 ],
 "metadata": {
  "kernelspec": {
   "display_name": "Python 3",
   "language": "python",
   "name": "python3"
  },
  "language_info": {
   "codemirror_mode": {
    "name": "ipython",
    "version": 3
   },
   "file_extension": ".py",
   "mimetype": "text/x-python",
   "name": "python",
   "nbconvert_exporter": "python",
   "pygments_lexer": "ipython3",
   "version": "3.7.3"
  }
 },
 "nbformat": 4,
 "nbformat_minor": 2
}
