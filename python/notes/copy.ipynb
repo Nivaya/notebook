{
 "cells": [
  {
   "cell_type": "code",
   "execution_count": 1,
   "metadata": {},
   "outputs": [],
   "source": [
    "import copy\n",
    "\n",
    "o = [1, 2, 3, [4]]\n",
    "a = o\n",
    "b = copy.copy(o)\n",
    "c = copy.deepcopy(o)"
   ]
  },
  {
   "cell_type": "code",
   "execution_count": 2,
   "metadata": {},
   "outputs": [
    {
     "name": "stdout",
     "output_type": "stream",
     "text": [
      "True\n",
      "True\n",
      "False\n",
      "False\n",
      "False\n",
      "o: id=2305980518472, o=[1, 2, 3, [4]]\n",
      "o: id=2305980518472, o=[1, 2, 3, [4, 5], 4]\n",
      "a: id=2305980518472, a=[1, 2, 3, [4, 5], 4]\n",
      "b: id=2305980518792, b=[1, 2, 3, [4, 5]]\n",
      "c: id=2305980501960, c=[1, 2, 3, [4]]\n"
     ]
    }
   ],
   "source": [
    "print(a == b == c)\n",
    "print(a is o)\n",
    "print(a is b)\n",
    "print(a is c)\n",
    "print(b is c)\n",
    "\n",
    "print('o: id=%s, o=%s' % (id(o), o))\n",
    "o.append(4)\n",
    "o[3].append(5)\n",
    "\n",
    "print('o: id=%s, o=%s' % (id(o), o))\n",
    "print('a: id=%s, a=%s' % (id(a), a))\n",
    "print('b: id=%s, b=%s' % (id(b), b))\n",
    "print('c: id=%s, c=%s' % (id(c), c))"
   ]
  },
  {
   "cell_type": "code",
   "execution_count": null,
   "metadata": {},
   "outputs": [],
   "source": []
  }
 ],
 "metadata": {
  "kernelspec": {
   "display_name": "Python 3",
   "language": "python",
   "name": "python3"
  },
  "language_info": {
   "codemirror_mode": {
    "name": "ipython",
    "version": 3
   },
   "file_extension": ".py",
   "mimetype": "text/x-python",
   "name": "python",
   "nbconvert_exporter": "python",
   "pygments_lexer": "ipython3",
   "version": "3.7.3"
  }
 },
 "nbformat": 4,
 "nbformat_minor": 2
}
