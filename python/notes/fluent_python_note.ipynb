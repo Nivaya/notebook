{
 "cells": [
  {
   "cell_type": "markdown",
   "metadata": {},
   "source": [
    "**bisect**"
   ]
  },
  {
   "cell_type": "code",
   "execution_count": 1,
   "metadata": {},
   "outputs": [
    {
     "name": "stdout",
     "output_type": "stream",
     "text": [
      "10 [10]\n",
      "9 [9, 10]\n",
      "4 [4, 9, 10]\n",
      "4 [4, 4, 9, 10]\n",
      "2 [2, 4, 4, 9, 10]\n",
      "10 [2, 4, 4, 9, 10, 10]\n",
      "4 [2, 4, 4, 4, 9, 10, 10]\n",
      "1 [1, 2, 4, 4, 4, 9, 10, 10]\n",
      "2 [1, 2, 2, 4, 4, 4, 9, 10, 10]\n",
      "3 [1, 2, 2, 3, 4, 4, 4, 9, 10, 10]\n"
     ]
    }
   ],
   "source": [
    "# 保持序列插入\n",
    "import bisect\n",
    "import random\n",
    "\n",
    "my_list = []\n",
    "for i in range(10):\n",
    "    num = random.randint(1, 10)\n",
    "    bisect.insort(my_list, num)\n",
    "    print(num, my_list)"
   ]
  },
  {
   "cell_type": "markdown",
   "metadata": {},
   "source": [
    "**函数**"
   ]
  },
  {
   "cell_type": "code",
   "execution_count": 5,
   "metadata": {},
   "outputs": [],
   "source": [
    "def func(a, b=2):\n",
    "    pass"
   ]
  },
  {
   "cell_type": "code",
   "execution_count": 6,
   "metadata": {},
   "outputs": [
    {
     "name": "stdout",
     "output_type": "stream",
     "text": [
      "('a', 'b')\n"
     ]
    }
   ],
   "source": [
    "print(func.__code__.co_varnames)"
   ]
  },
  {
   "cell_type": "code",
   "execution_count": 13,
   "metadata": {},
   "outputs": [],
   "source": [
    "# 函数注解\n",
    "def func2(a: str, b: 'int>10' = 100) -> int:\n",
    "    return b"
   ]
  },
  {
   "cell_type": "code",
   "execution_count": 12,
   "metadata": {},
   "outputs": [
    {
     "data": {
      "text/plain": [
       "{'a': str, 'b': 'int>10', 'return': int}"
      ]
     },
     "execution_count": 12,
     "metadata": {},
     "output_type": "execute_result"
    }
   ],
   "source": [
    "func2.__annotations__"
   ]
  },
  {
   "cell_type": "code",
   "execution_count": 16,
   "metadata": {},
   "outputs": [
    {
     "name": "stdout",
     "output_type": "stream",
     "text": [
      "10\n",
      "15\n"
     ]
    }
   ],
   "source": [
    "from operator import mul\n",
    "from functools import partial\n",
    "\n",
    "print(mul(5, 2))\n",
    "# partial 复制函数,并固定参数,使新函数变成传参更少的函数\n",
    "mul2 = partial(mul, 5)\n",
    "print(mul2(3))"
   ]
  },
  {
   "cell_type": "markdown",
   "metadata": {},
   "source": [
    "**引用**\n",
    "+ 垃圾回收:每个对象都会统计有多少引用指向自己。 当引用计数归零时， 对象立即就被销毁\n",
    "+ del 不删除对象， 而是删除对象的引用"
   ]
  },
  {
   "cell_type": "code",
   "execution_count": 1,
   "metadata": {},
   "outputs": [],
   "source": [
    "# Python对不可变类型施加的把戏，str、 bytes 和 frozenset 实例也有这种行为\n",
    "t1 = (1, 2, 3)\n",
    "t2 = tuple(t1)"
   ]
  },
  {
   "cell_type": "code",
   "execution_count": 2,
   "metadata": {},
   "outputs": [
    {
     "data": {
      "text/plain": [
       "True"
      ]
     },
     "execution_count": 2,
     "metadata": {},
     "output_type": "execute_result"
    }
   ],
   "source": [
    "t2 is t1 "
   ]
  },
  {
   "cell_type": "code",
   "execution_count": 3,
   "metadata": {},
   "outputs": [
    {
     "data": {
      "text/plain": [
       "True"
      ]
     },
     "execution_count": 3,
     "metadata": {},
     "output_type": "execute_result"
    }
   ],
   "source": [
    "t3 = t1[:]\n",
    "t3 is t1"
   ]
  },
  {
   "cell_type": "code",
   "execution_count": 4,
   "metadata": {},
   "outputs": [
    {
     "name": "stdout",
     "output_type": "stream",
     "text": [
      "1464348489240\n",
      "1464348489240\n"
     ]
    }
   ],
   "source": [
    "t1 = 'sss'\n",
    "print(id(t1))\n",
    "t2 = str(t1)\n",
    "print(id(t2))"
   ]
  },
  {
   "cell_type": "code",
   "execution_count": 1,
   "metadata": {},
   "outputs": [
    {
     "name": "stdout",
     "output_type": "stream",
     "text": [
      "2384778880560\n",
      "2384796720224\n",
      "2384691657168\n",
      "2384691657168\n"
     ]
    }
   ],
   "source": [
    "t1 = (1, 2, 3)\n",
    "t2 = (1, 2, 3)\n",
    "print(id(t1))\n",
    "print(id(t2))\n",
    "t1 = 'abc'\n",
    "t2 = 'abc'\n",
    "print(id(t1))\n",
    "print(id(t2))"
   ]
  },
  {
   "cell_type": "markdown",
   "metadata": {},
   "source": [
    "**鸭子类型**\n",
    "+ 对象的类型无关紧要， 只要实现了特定的协议即可。"
   ]
  },
  {
   "cell_type": "code",
   "execution_count": 1,
   "metadata": {},
   "outputs": [
    {
     "name": "stdout",
     "output_type": "stream",
     "text": [
      "[Card(rank='10', suit='hearts'), Card(rank='K', suit='clubs'), Card(rank='7', suit='diamonds'), Card(rank='10', suit='clubs'), Card(rank='6', suit='diamonds')]\n"
     ]
    }
   ],
   "source": [
    "import collections\n",
    "from random import shuffle\n",
    "\n",
    "Card = collections.namedtuple('Card', ['rank', 'suit'])\n",
    "\n",
    "\n",
    "class FrenchDeck:\n",
    "    ranks = [str(n) for n in range(2, 11)] + list('JQKA')\n",
    "    suits = 'spades diamonds clubs hearts'.split()\n",
    "\n",
    "    def __init__(self):\n",
    "        self.cards = [\n",
    "            Card(rank, suit) for suit in self.suits for rank in self.ranks\n",
    "        ]\n",
    "\n",
    "    def __len__(self):\n",
    "        return len(self.cards)\n",
    "\n",
    "    def __getitem__(self, position):\n",
    "        return self.cards[position]\n",
    "\n",
    "\n",
    "#     shuffle需要类有该方法\n",
    "#     def __setitem__(self, key, value):\n",
    "#         self.cards[key]=value\n",
    "\n",
    "\n",
    "def set_cards(cls, key, value):\n",
    "    cls.cards[key] = value\n",
    "\n",
    "# 猴子补丁，属性在运行时的动态替换\n",
    "FrenchDeck.__setitem__ = set_cards\n",
    "\n",
    "deck = FrenchDeck()\n",
    "shuffle(deck)\n",
    "print(deck.cards[:5])"
   ]
  },
  {
   "cell_type": "markdown",
   "metadata": {},
   "source": [
    "**十二  继承的优缺点**"
   ]
  },
  {
   "cell_type": "code",
   "execution_count": 6,
   "metadata": {},
   "outputs": [
    {
     "data": {
      "text/plain": [
       "{'one': 1}"
      ]
     },
     "execution_count": 6,
     "metadata": {},
     "output_type": "execute_result"
    }
   ],
   "source": [
    "import collections\n",
    "\n",
    "# 内置类型的方法不会调用子类覆盖的方法\n",
    "class A(dict):\n",
    "    def __setitem__(self, key, value):\n",
    "        super().__setitem__(key, [value] * 2)\n",
    "\n",
    "a = A(one=1)\n",
    "a"
   ]
  },
  {
   "cell_type": "code",
   "execution_count": 7,
   "metadata": {},
   "outputs": [
    {
     "data": {
      "text/plain": [
       "{'one': 1, 'two': [2, 2]}"
      ]
     },
     "execution_count": 7,
     "metadata": {},
     "output_type": "execute_result"
    }
   ],
   "source": [
    "a['two']=2\n",
    "a"
   ]
  },
  {
   "cell_type": "code",
   "execution_count": 2,
   "metadata": {},
   "outputs": [
    {
     "name": "stdout",
     "output_type": "stream",
     "text": [
      "{'one': [1, 1]}\n"
     ]
    }
   ],
   "source": [
    "# 接子类化内置类型（如 dict、 list 或 str） 容易出错，因为内置类型的方法通常会忽略用户覆盖的方法。\n",
    "# 不要子类化内置类型， 用户自己定义的类应该继承 collections 模块，如UserDict、 UserList 和 UserString\n",
    "class A(collections.UserDict):\n",
    "    def __setitem__(self, key, value):\n",
    "        super().__setitem__(key, [value] * 2)\n",
    "\n",
    "\n",
    "a = A(one=1)\n",
    "print(a)"
   ]
  },
  {
   "cell_type": "code",
   "execution_count": 3,
   "metadata": {},
   "outputs": [
    {
     "name": "stdout",
     "output_type": "stream",
     "text": [
      "A-ping: <__main__.D object at 0x0000021AC796A6D8>\n",
      "D-post-ping: <__main__.D object at 0x0000021AC796A6D8>\n",
      "A-ping: <__main__.D object at 0x0000021AC796A6D8>\n",
      "B-pong: <__main__.D object at 0x0000021AC796A6D8>\n",
      "B-pong: <__main__.D object at 0x0000021AC796A6D8>\n",
      "C-PONG: <__main__.D object at 0x0000021AC796A6D8>\n",
      "(<class '__main__.D'>, <class '__main__.B'>, <class '__main__.C'>, <class '__main__.A'>, <class 'object'>)\n"
     ]
    }
   ],
   "source": [
    "# 多重继承\n",
    "class A:\n",
    "    def ping(self):\n",
    "        print('A-ping:', self)\n",
    "\n",
    "\n",
    "class B(A):\n",
    "    def pong(self):\n",
    "        print('B-pong:', self)\n",
    "\n",
    "\n",
    "class C(A):\n",
    "    def pong(self):\n",
    "        print('C-PONG:', self)\n",
    "\n",
    "\n",
    "class D(B, C):\n",
    "    def ping(self):\n",
    "        super().ping()\n",
    "        print('D-post-ping:', self)\n",
    "\n",
    "    def pingpong(self):\n",
    "        self.ping()\n",
    "        super().ping()\n",
    "        self.pong()\n",
    "        super().pong()\n",
    "        C.pong(self)\n",
    "\n",
    "\n",
    "d = D()\n",
    "d.pingpong()\n",
    "print(D.__mro__)"
   ]
  },
  {
   "cell_type": "code",
   "execution_count": null,
   "metadata": {},
   "outputs": [],
   "source": []
  }
 ],
 "metadata": {
  "kernelspec": {
   "display_name": "Python 3",
   "language": "python",
   "name": "python3"
  },
  "language_info": {
   "codemirror_mode": {
    "name": "ipython",
    "version": 3
   },
   "file_extension": ".py",
   "mimetype": "text/x-python",
   "name": "python",
   "nbconvert_exporter": "python",
   "pygments_lexer": "ipython3",
   "version": "3.7.3"
  }
 },
 "nbformat": 4,
 "nbformat_minor": 2
}
