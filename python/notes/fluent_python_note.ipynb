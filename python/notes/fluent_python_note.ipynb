{
 "cells": [
  {
   "cell_type": "markdown",
   "metadata": {},
   "source": [
    "**bisect**"
   ]
  },
  {
   "cell_type": "code",
   "execution_count": 1,
   "metadata": {},
   "outputs": [
    {
     "name": "stdout",
     "output_type": "stream",
     "text": [
      "10 [10]\n",
      "9 [9, 10]\n",
      "4 [4, 9, 10]\n",
      "4 [4, 4, 9, 10]\n",
      "2 [2, 4, 4, 9, 10]\n",
      "10 [2, 4, 4, 9, 10, 10]\n",
      "4 [2, 4, 4, 4, 9, 10, 10]\n",
      "1 [1, 2, 4, 4, 4, 9, 10, 10]\n",
      "2 [1, 2, 2, 4, 4, 4, 9, 10, 10]\n",
      "3 [1, 2, 2, 3, 4, 4, 4, 9, 10, 10]\n"
     ]
    }
   ],
   "source": [
    "# 保持序列插入\n",
    "import bisect\n",
    "import random\n",
    "\n",
    "my_list = []\n",
    "for i in range(10):\n",
    "    num = random.randint(1, 10)\n",
    "    bisect.insort(my_list, num)\n",
    "    print(num, my_list)"
   ]
  },
  {
   "cell_type": "markdown",
   "metadata": {},
   "source": [
    "**函数**"
   ]
  },
  {
   "cell_type": "code",
   "execution_count": 5,
   "metadata": {},
   "outputs": [],
   "source": [
    "def func(a, b=2):\n",
    "    pass"
   ]
  },
  {
   "cell_type": "code",
   "execution_count": 6,
   "metadata": {},
   "outputs": [
    {
     "name": "stdout",
     "output_type": "stream",
     "text": [
      "('a', 'b')\n"
     ]
    }
   ],
   "source": [
    "print(func.__code__.co_varnames)"
   ]
  },
  {
   "cell_type": "code",
   "execution_count": 13,
   "metadata": {},
   "outputs": [],
   "source": [
    "# 函数注解\n",
    "def func2(a: str, b: 'int>10' = 100) -> int:\n",
    "    return b"
   ]
  },
  {
   "cell_type": "code",
   "execution_count": 12,
   "metadata": {},
   "outputs": [
    {
     "data": {
      "text/plain": [
       "{'a': str, 'b': 'int>10', 'return': int}"
      ]
     },
     "execution_count": 12,
     "metadata": {},
     "output_type": "execute_result"
    }
   ],
   "source": [
    "func2.__annotations__"
   ]
  },
  {
   "cell_type": "code",
   "execution_count": 16,
   "metadata": {},
   "outputs": [
    {
     "name": "stdout",
     "output_type": "stream",
     "text": [
      "10\n",
      "15\n"
     ]
    }
   ],
   "source": [
    "from operator import mul\n",
    "from functools import partial\n",
    "\n",
    "print(mul(5, 2))\n",
    "# partial 复制函数,并固定参数,使新函数变成传参更少的函数\n",
    "mul2 = partial(mul, 5)\n",
    "print(mul2(3))"
   ]
  },
  {
   "cell_type": "markdown",
   "metadata": {},
   "source": [
    "**引用**\n",
    "+ 垃圾回收:每个对象都会统计有多少引用指向自己。 当引用计数归零时， 对象立即就被销毁\n",
    "+ del 不删除对象， 而是删除对象的引用"
   ]
  },
  {
   "cell_type": "code",
   "execution_count": 1,
   "metadata": {},
   "outputs": [],
   "source": [
    "# Python对不可变类型施加的把戏，str、 bytes 和 frozenset 实例也有这种行为\n",
    "t1 = (1, 2, 3)\n",
    "t2 = tuple(t1)"
   ]
  },
  {
   "cell_type": "code",
   "execution_count": 2,
   "metadata": {},
   "outputs": [
    {
     "data": {
      "text/plain": [
       "True"
      ]
     },
     "execution_count": 2,
     "metadata": {},
     "output_type": "execute_result"
    }
   ],
   "source": [
    "t2 is t1 "
   ]
  },
  {
   "cell_type": "code",
   "execution_count": 3,
   "metadata": {},
   "outputs": [
    {
     "data": {
      "text/plain": [
       "True"
      ]
     },
     "execution_count": 3,
     "metadata": {},
     "output_type": "execute_result"
    }
   ],
   "source": [
    "t3 = t1[:]\n",
    "t3 is t1"
   ]
  },
  {
   "cell_type": "code",
   "execution_count": 4,
   "metadata": {},
   "outputs": [
    {
     "name": "stdout",
     "output_type": "stream",
     "text": [
      "1464348489240\n",
      "1464348489240\n"
     ]
    }
   ],
   "source": [
    "t1 = 'sss'\n",
    "print(id(t1))\n",
    "t2 = str(t1)\n",
    "print(id(t2))"
   ]
  },
  {
   "cell_type": "code",
   "execution_count": 1,
   "metadata": {},
   "outputs": [
    {
     "name": "stdout",
     "output_type": "stream",
     "text": [
      "2384778880560\n",
      "2384796720224\n",
      "2384691657168\n",
      "2384691657168\n"
     ]
    }
   ],
   "source": [
    "t1 = (1, 2, 3)\n",
    "t2 = (1, 2, 3)\n",
    "print(id(t1))\n",
    "print(id(t2))\n",
    "t1 = 'abc'\n",
    "t2 = 'abc'\n",
    "print(id(t1))\n",
    "print(id(t2))"
   ]
  },
  {
   "cell_type": "markdown",
   "metadata": {},
   "source": [
    "**鸭子类型**\n",
    "+ 对象的类型无关紧要， 只要实现了特定的协议即可。"
   ]
  },
  {
   "cell_type": "code",
   "execution_count": 5,
   "metadata": {},
   "outputs": [
    {
     "name": "stdout",
     "output_type": "stream",
     "text": [
      "[Card(rank='2', suit='clubs'), Card(rank='K', suit='diamonds'), Card(rank='3', suit='spades'), Card(rank='2', suit='hearts'), Card(rank='A', suit='clubs')]\n"
     ]
    }
   ],
   "source": [
    "import collections\n",
    "from random import shuffle\n",
    "\n",
    "Card = collections.namedtuple('Card', ['rank', 'suit'])\n",
    "\n",
    "\n",
    "class FrenchDeck:\n",
    "    ranks = [str(n) for n in range(2, 11)] + list('JQKA')\n",
    "    suits = 'spades diamonds clubs hearts'.split()\n",
    "\n",
    "    def __init__(self):\n",
    "        self.cards = [\n",
    "            Card(rank, suit) for suit in self.suits for rank in self.ranks\n",
    "        ]\n",
    "\n",
    "    def __len__(self):\n",
    "        return len(self.cards)\n",
    "\n",
    "    def __getitem__(self, position):\n",
    "        return self.cards[position]\n",
    "    \n",
    "#     shuffle需要类有该方法\n",
    "    def __setitem__(self, key, value):\n",
    "        self.cards[key]=value\n",
    "\n",
    "\n",
    "deck = FrenchDeck()\n",
    "\n",
    "shuffle(deck)\n",
    "print(deck.cards[:5])"
   ]
  },
  {
   "cell_type": "code",
   "execution_count": null,
   "metadata": {},
   "outputs": [],
   "source": []
  }
 ],
 "metadata": {
  "kernelspec": {
   "display_name": "Python 3",
   "language": "python",
   "name": "python3"
  },
  "language_info": {
   "codemirror_mode": {
    "name": "ipython",
    "version": 3
   },
   "file_extension": ".py",
   "mimetype": "text/x-python",
   "name": "python",
   "nbconvert_exporter": "python",
   "pygments_lexer": "ipython3",
   "version": "3.7.3"
  }
 },
 "nbformat": 4,
 "nbformat_minor": 2
}
