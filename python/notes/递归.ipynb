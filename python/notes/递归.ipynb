{
 "cells": [
  {
   "cell_type": "code",
   "execution_count": 1,
   "metadata": {},
   "outputs": [
    {
     "name": "stdout",
     "output_type": "stream",
     "text": [
      "1\n",
      "1\n",
      "2\n",
      "3\n",
      "3\n",
      "4\n",
      "0.0009982585906982422\n"
     ]
    }
   ],
   "source": [
    "# 链表递归\n",
    "from typing import List\n",
    "import time\n",
    "import json\n",
    "\n",
    "\n",
    "# Definition for singly-linked list.\n",
    "class ListNode:\n",
    "    def __init__(self, x):\n",
    "        self.val = x\n",
    "        self.next = None\n",
    "\n",
    "\n",
    "class Solution:\n",
    "    def mergeTwoLists(self, l1, l2):\n",
    "        if l1 is None:\n",
    "            return l2\n",
    "        elif l2 is None:\n",
    "            return l1\n",
    "        elif l1.val <= l2.val:\n",
    "            l1.next = self.mergeTwoLists(l1.next, l2)\n",
    "            return l1\n",
    "        else:\n",
    "            l2.next = self.mergeTwoLists(l1, l2.next)\n",
    "            return l2\n",
    "\n",
    "\n",
    "def stringToListNode(input):\n",
    "    # Generate list from the input\n",
    "    numbers = input\n",
    "\n",
    "    # Now convert that list into linked list\n",
    "    dummyRoot = ListNode(0)\n",
    "    ptr = dummyRoot\n",
    "    for number in numbers:\n",
    "        ptr.next = ListNode(number)\n",
    "        ptr = ptr.next\n",
    "\n",
    "    ptr = dummyRoot.next\n",
    "    return ptr\n",
    "\n",
    "\n",
    "b = time.time()\n",
    "s = Solution()\n",
    "res = s.mergeTwoLists(stringToListNode([1, 2, 4]), stringToListNode([1, 3, 3]))\n",
    "while res:\n",
    "    print(res.val)\n",
    "    res = res.next\n",
    "print(time.time() - b)"
   ]
  },
  {
   "cell_type": "code",
   "execution_count": 2,
   "metadata": {},
   "outputs": [
    {
     "name": "stdout",
     "output_type": "stream",
     "text": [
      "0 1\n",
      "1 1\n",
      "2 2\n",
      "3 6\n",
      "4 24\n",
      "5 120\n"
     ]
    }
   ],
   "source": [
    "# 阶乘\n",
    "def fact(n):\n",
    "    if n==0 or n==1:\n",
    "        return 1\n",
    "    return n*fact(n-1)\n",
    "\n",
    "for i in range(6):\n",
    "    print(i,fact(i))"
   ]
  },
  {
   "cell_type": "code",
   "execution_count": 3,
   "metadata": {},
   "outputs": [],
   "source": [
    "from functools import reduce\n",
    "def fact(n):\n",
    "    return reduce(lambda a, b: a*b, range(1, n+1))"
   ]
  },
  {
   "cell_type": "code",
   "execution_count": 19,
   "metadata": {},
   "outputs": [
    {
     "name": "stdout",
     "output_type": "stream",
     "text": [
      "573147844013817084101\n",
      "0.0\n"
     ]
    }
   ],
   "source": [
    "from functools import lru_cache\n",
    "from time import time\n",
    "\n",
    "# 斐波那契\n",
    "@lru_cache()\n",
    "# lru_cache 用于递归的缓存优化递归算法,如不用,100次递归深度报错\n",
    "# functools.lru_cache(maxsize=128, typed=False)\n",
    "# maxsize 参数指定存储多少个调用的结果。 缓存满了之后， 旧的结果会被扔掉， 腾出空间。 \n",
    "# 为了得到最佳性能， maxsize 应该设为 2 的幂。 \n",
    "# typed 参数如果设为 True， 把不同参数类型得到的结果分开保存， 即把通常认为相等的浮点数和整数参数（如 1 和 1.0） 区分开\n",
    "def fib(n):\n",
    "    if n==0 or n==1:\n",
    "        return 1\n",
    "    return fib(n-2)+fib(n-1)\n",
    "\n",
    "t= time()\n",
    "print(fib(100))\n",
    "print(time()-t)"
   ]
  },
  {
   "cell_type": "code",
   "execution_count": 16,
   "metadata": {},
   "outputs": [],
   "source": [
    "from functools import lru_cache, wraps\n",
    "from time import time\n",
    "\n",
    "# 装饰器缓存器\n",
    "def cache(f):\n",
    "    caches = {}\n",
    "    @wraps(f)\n",
    "    def wapper(args):\n",
    "        if not args in caches:\n",
    "            caches[args] = f(args)\n",
    "        return caches[args]\n",
    "    return wapper\n",
    "\n",
    "@cache    \n",
    "def fib(n):\n",
    "    if n==0 or n==1:\n",
    "        return 1\n",
    "    return fib(n-2)+fib(n-1)"
   ]
  },
  {
   "cell_type": "code",
   "execution_count": 21,
   "metadata": {},
   "outputs": [
    {
     "name": "stdout",
     "output_type": "stream",
     "text": [
      "573147844013817084101\n",
      "0.0009975433349609375\n"
     ]
    }
   ],
   "source": [
    "t= time()\n",
    "print(fib(100))\n",
    "print(time()-t)"
   ]
  },
  {
   "cell_type": "code",
   "execution_count": 1,
   "metadata": {},
   "outputs": [
    {
     "name": "stdout",
     "output_type": "stream",
     "text": [
      "5 4 3\n"
     ]
    }
   ],
   "source": [
    "# 单链表逆序\n",
    "# Definition for singly-linked list.\n",
    "class ListNode:\n",
    "    def __init__(self, x):\n",
    "        self.val = x\n",
    "        self.next = None\n",
    "\n",
    "\n",
    "class Solution:\n",
    "    def reverseList(self, head: ListNode) -> ListNode:\n",
    "        if not head.next:\n",
    "            return head\n",
    "        new_node = self.reverseList(head.next)  #当前节点\n",
    "        head.next.next = head\n",
    "        head.next = None\n",
    "        return new_node\n",
    "\n",
    "\n",
    "l5 = ListNode(5)\n",
    "l4 = ListNode(4)\n",
    "l4.next = l5\n",
    "l3 = ListNode(3)\n",
    "l3.next = l4\n",
    "l2 = ListNode(2)\n",
    "l2.next = l3\n",
    "l1 = ListNode(1)\n",
    "l1.next = l2\n",
    "\n",
    "sl = Solution()\n",
    "r = sl.reverseList(l1)\n",
    "print(r.val, r.next.val, r.next.next.val)"
   ]
  },
  {
   "cell_type": "code",
   "execution_count": null,
   "metadata": {},
   "outputs": [],
   "source": []
  }
 ],
 "metadata": {
  "kernelspec": {
   "display_name": "Python 3",
   "language": "python",
   "name": "python3"
  },
  "language_info": {
   "codemirror_mode": {
    "name": "ipython",
    "version": 3
   },
   "file_extension": ".py",
   "mimetype": "text/x-python",
   "name": "python",
   "nbconvert_exporter": "python",
   "pygments_lexer": "ipython3",
   "version": "3.7.3"
  }
 },
 "nbformat": 4,
 "nbformat_minor": 2
}
