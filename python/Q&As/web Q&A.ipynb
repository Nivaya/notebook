{
 "cells": [
  {
   "cell_type": "code",
   "execution_count": 1,
   "metadata": {},
   "outputs": [
    {
     "data": {
      "text/plain": [
       "'\\n层叠优先级是:\\n浏览器缺省 < 外部样式表 < 内部样式表 < 内联样式\\n\\n其中样式表又有:\\n类选择器 < 类派生选择器 < ID选择器 < ID派生选择器\\n'"
      ]
     },
     "execution_count": 1,
     "metadata": {},
     "output_type": "execute_result"
    }
   ],
   "source": [
    "# 1. Css优先级\n",
    "\"\"\"\n",
    "层叠优先级是:\n",
    "浏览器缺省 < 外部样式表 < 内部样式表 < 内联样式\n",
    "\n",
    "其中样式表又有:\n",
    "类选择器 < 类派生选择器 < ID选择器 < ID派生选择器\n",
    "\"\"\""
   ]
  },
  {
   "cell_type": "code",
   "execution_count": 2,
   "metadata": {},
   "outputs": [
    {
     "data": {
      "text/plain": [
       "'\\nfunction a(){\\n    alert(1);\\n    setTimeout(function(){alert(2)},0)\\n    alert(3);\\n}\\n\\n>1,3,2\\n'"
      ]
     },
     "execution_count": 2,
     "metadata": {},
     "output_type": "execute_result"
    }
   ],
   "source": [
    "# 2.setTimeout\n",
    "\"\"\"\n",
    "function a(){\n",
    "    alert(1);\n",
    "    setTimeout(function(){alert(2)},0)\n",
    "    alert(3);\n",
    "}\n",
    "\n",
    ">1,3,2\n",
    "\"\"\""
   ]
  },
  {
   "cell_type": "code",
   "execution_count": null,
   "metadata": {},
   "outputs": [],
   "source": [
    "# 3.作用域\n",
    "\"\"\"\n",
    "function A(){\n",
    "    var a = 1;\n",
    "\tif(true){ \n",
    "    var b=2\n",
    "    }\n",
    "    alert(a);\n",
    "\talert(b);\n",
    "}\n",
    ">1,2\n",
    "\"\"\""
   ]
  }
 ],
 "metadata": {
  "kernelspec": {
   "display_name": "Python 3",
   "language": "python",
   "name": "python3"
  },
  "language_info": {
   "codemirror_mode": {
    "name": "ipython",
    "version": 3
   },
   "file_extension": ".py",
   "mimetype": "text/x-python",
   "name": "python",
   "nbconvert_exporter": "python",
   "pygments_lexer": "ipython3",
   "version": "3.7.3"
  }
 },
 "nbformat": 4,
 "nbformat_minor": 2
}
