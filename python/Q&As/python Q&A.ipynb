{
 "cells": [
  {
   "cell_type": "code",
   "execution_count": 1,
   "metadata": {},
   "outputs": [
    {
     "name": "stdout",
     "output_type": "stream",
     "text": [
      "2 5\n"
     ]
    }
   ],
   "source": [
    "# 1.类私有变量不能被重载赋值\n",
    "class A:\n",
    "    def __init__(self):\n",
    "        self.__x = 2\n",
    "        self.y = 3\n",
    "\n",
    "    def output(self):\n",
    "        print(self.__x, self.y)\n",
    "\n",
    "\n",
    "class B(A):\n",
    "    def __init__(self):\n",
    "        super().__init__()\n",
    "        self.__x = 4\n",
    "        self.y = 5\n",
    "\n",
    "\n",
    "b = B()\n",
    "b.output()"
   ]
  },
  {
   "cell_type": "code",
   "execution_count": 3,
   "metadata": {},
   "outputs": [
    {
     "name": "stdout",
     "output_type": "stream",
     "text": [
      "[2, 3, 4]\n"
     ]
    }
   ],
   "source": [
    "# 2.迭代器\n",
    "a = [1, 2, 3, 4]\n",
    "b = iter(a)\n",
    "next(b)\n",
    "print(list(b))"
   ]
  },
  {
   "cell_type": "code",
   "execution_count": 6,
   "metadata": {},
   "outputs": [
    {
     "name": "stdout",
     "output_type": "stream",
     "text": [
      "3\n"
     ]
    }
   ],
   "source": [
    "# 3.python函数递归,斐波那契数列\n",
    "# 1,1,2,3,5,8,13,21...m(第n个)\n",
    "# 分析:m=1(n=1|2),m=m(n-1)+m(n-2)\n",
    "def func(n):\n",
    "    if n == 1 or n == 2:\n",
    "        return 1\n",
    "    return func(n - 1) + func(n - 2)\n",
    "\n",
    "\n",
    "print(func(4))"
   ]
  },
  {
   "cell_type": "code",
   "execution_count": 1,
   "metadata": {},
   "outputs": [
    {
     "name": "stdout",
     "output_type": "stream",
     "text": [
      "3\n"
     ]
    }
   ],
   "source": [
    "def func(n):\n",
    "    m = 2\n",
    "    if n == 1 or n == 2:\n",
    "        return 1\n",
    "    a, b = [1, 1]\n",
    "    while m < n:\n",
    "        a, b = b, a + b\n",
    "        m = m + 1\n",
    "    return b\n",
    "\n",
    "print(func(4))"
   ]
  },
  {
   "cell_type": "code",
   "execution_count": 13,
   "metadata": {},
   "outputs": [
    {
     "name": "stdout",
     "output_type": "stream",
     "text": [
      "[1]\n",
      "[1, 1]\n",
      "[1, 2, 1]\n",
      "[1, 3, 3, 1]\n",
      "[1, 4, 6, 4, 1]\n",
      "[1, 5, 10, 10, 5, 1]\n",
      "[1, 6, 15, 20, 15, 6, 1]\n",
      "[1, 7, 21, 35, 35, 21, 7, 1]\n",
      "[1, 8, 28, 56, 70, 56, 28, 8, 1]\n",
      "[1, 9, 36, 84, 126, 126, 84, 36, 9, 1]\n"
     ]
    }
   ],
   "source": [
    "# 4.生成器,杨辉三角\n",
    "\"\"\"\n",
    "期待输出:\n",
    "[1]\n",
    "[1, 1]\n",
    "[1, 2, 1]\n",
    "[1, 3, 3, 1]\n",
    "[1, 4, 6, 4, 1]\n",
    "[1, 5, 10, 10, 5, 1]\n",
    "[1, 6, 15, 20, 15, 6, 1]\n",
    "[1, 7, 21, 35, 35, 21, 7, 1]\n",
    "[1, 8, 28, 56, 70, 56, 28, 8, 1]\n",
    "[1, 9, 36, 84, 126, 126, 84, 36, 9, 1]\n",
    "...\n",
    "\"\"\"\n",
    "\n",
    "\n",
    "def triangles():\n",
    "    L = [1]\n",
    "    while True:\n",
    "        yield L\n",
    "        L = [1] + [L[i] + L[i + 1] for i in range(len(L) - 1)] + [1]\n",
    "\n",
    "\n",
    "n = 0\n",
    "results = []\n",
    "for t in triangles():\n",
    "    print(t)\n",
    "    results.append(t)\n",
    "    n = n + 1\n",
    "    if n == 10:\n",
    "        break"
   ]
  },
  {
   "cell_type": "code",
   "execution_count": 18,
   "metadata": {},
   "outputs": [
    {
     "name": "stdout",
     "output_type": "stream",
     "text": [
      "2123972638704\n",
      "2123972638648\n",
      "2123972638480\n",
      "2123972638480\n"
     ]
    }
   ],
   "source": [
    "# 5.单例模式\n",
    "# 单例模式，是一种常用的软件设计模式。\n",
    "# 在它的核心结构中只包含一个被称为单例的特殊类。\n",
    "# 通过单例模式可以保证系统中，应用该模式的一个类只有一个实例。\n",
    "# 即一个类只有一个对象实例。\n",
    "\n",
    "\n",
    "class Earth:\n",
    "    pass\n",
    "\n",
    "\n",
    "a = Earth()\n",
    "print(id(a))\n",
    "b = Earth()\n",
    "print(id(b))\n",
    "\n",
    "\n",
    "# 分析:在类第二次被实例化的时候对new方法进行拦截,返回上一个引用\n",
    "class Earth(object):\n",
    "    __instance = None  #定义一个类属性做判断\n",
    "\n",
    "    def __new__(cls):\n",
    "        if cls.__instance == None:\n",
    "            #如果__instance为空证明是第一次创建实例\n",
    "            #通过父类的__new__(cls)创建实例\n",
    "            cls.__instance = object.__new__(cls)\n",
    "            return cls.__instance\n",
    "        else:\n",
    "            #返回上一个对象的引用\n",
    "            return cls.__instance\n",
    "\n",
    "\n",
    "a = Earth()\n",
    "print(id(a))\n",
    "b = Earth()\n",
    "print(id(b))"
   ]
  },
  {
   "cell_type": "code",
   "execution_count": 20,
   "metadata": {},
   "outputs": [
    {
     "data": {
      "text/plain": [
       "['apple', 'banana', 'toys', 'cat', 'dog']"
      ]
     },
     "execution_count": 20,
     "metadata": {},
     "output_type": "execute_result"
    }
   ],
   "source": [
    "# 6.列表随机化\n",
    "from random import shuffle\n",
    "\n",
    "L = ['apple', 'banana', 'dog', 'cat', 'toys']\n",
    "shuffle(L)\n",
    "L"
   ]
  },
  {
   "cell_type": "code",
   "execution_count": 32,
   "metadata": {},
   "outputs": [
    {
     "name": "stdout",
     "output_type": "stream",
     "text": [
      "[1, 2, 3, 4, 15, 16, 17, 18]\n",
      "[4, 5, 6, 7, 8]\n",
      "852\n"
     ]
    }
   ],
   "source": [
    "# 7.lambda\n",
    "from functools import reduce\n",
    "\n",
    "a = [1, 2, 3, 4, 5, 6, 7, 8]\n",
    "\n",
    "print(list(map(lambda x: x + 10 if x > 4 else x, a)))\n",
    "print(list(filter(lambda x: x > 3, a)))\n",
    "print(reduce(lambda x, y: x - y, a, 888))  #reduce接受3个参数 x,y,初始值"
   ]
  },
  {
   "cell_type": "code",
   "execution_count": 47,
   "metadata": {},
   "outputs": [
    {
     "name": "stdout",
     "output_type": "stream",
     "text": [
      "'name'\n",
      "'hello' world\n",
      "133.33%\n"
     ]
    }
   ],
   "source": [
    "# 8.format\n",
    "\n",
    "print(repr('name'))\n",
    "print(\"{1!r} {0!s}\".format('world', 'hello'))  #r指repr不转义\n",
    "print(\"{:.2%}\".format(4/3))"
   ]
  },
  {
   "cell_type": "code",
   "execution_count": null,
   "metadata": {},
   "outputs": [],
   "source": []
  }
 ],
 "metadata": {
  "kernelspec": {
   "display_name": "Python 3",
   "language": "python",
   "name": "python3"
  },
  "language_info": {
   "codemirror_mode": {
    "name": "ipython",
    "version": 3
   },
   "file_extension": ".py",
   "mimetype": "text/x-python",
   "name": "python",
   "nbconvert_exporter": "python",
   "pygments_lexer": "ipython3",
   "version": "3.7.4"
  }
 },
 "nbformat": 4,
 "nbformat_minor": 2
}
