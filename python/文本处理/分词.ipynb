{
 "cells": [
  {
   "cell_type": "code",
   "execution_count": 1,
   "metadata": {},
   "outputs": [],
   "source": [
    "import jieba\n",
    "import jieba.posseg as pseg"
   ]
  },
  {
   "cell_type": "code",
   "execution_count": 2,
   "metadata": {},
   "outputs": [
    {
     "name": "stderr",
     "output_type": "stream",
     "text": [
      "Building prefix dict from the default dictionary ...\n",
      "Loading model from cache C:\\Users\\PC-YAO~1\\AppData\\Local\\Temp\\jieba.cache\n",
      "Loading model cost 0.747 seconds.\n",
      "Prefix dict has been built succesfully.\n"
     ]
    },
    {
     "name": "stdout",
     "output_type": "stream",
     "text": [
      "我/来到/了/北京大学/学习/计算机专业/。\n",
      "我  r\n",
      "来到  v\n",
      "了  ul\n",
      "北京大学  nt\n",
      "学习  v\n",
      "计算机专业  n\n",
      "。  x\n"
     ]
    }
   ],
   "source": [
    "s = '我来到了北京大学学习计算机专业。'\n",
    "\n",
    "seg_cut = jieba.cut(s, cut_all=False)\n",
    "print('/'.join(seg_cut))\n",
    "\n",
    "seg_cut2 = pseg.cut(s)\n",
    "for word,flag in seg_cut2:\n",
    "    print(\"%s  %s\"%(word, flag))"
   ]
  },
  {
   "cell_type": "markdown",
   "metadata": {},
   "source": [
    "# 词向量"
   ]
  },
  {
   "cell_type": "code",
   "execution_count": 3,
   "metadata": {},
   "outputs": [
    {
     "name": "stdout",
     "output_type": "stream",
     "text": [
      "[-0.04258938 -0.04934344 -0.00109234 -0.04905028  0.00212706 -0.01135922\n",
      "  0.03699464  0.02365322  0.02097529 -0.03340159]\n",
      "[ 0.03946745  0.00644496 -0.03570656  0.02471503  0.0174212  -0.01465817\n",
      " -0.00117223  0.03352048  0.01563157  0.01049795]\n",
      "[-0.04195736  0.00791871  0.04953478 -0.03643433  0.03106195  0.01212929\n",
      " -0.04428399  0.04137265 -0.00882919  0.01052505]\n"
     ]
    },
    {
     "name": "stderr",
     "output_type": "stream",
     "text": [
      "C:\\Anaconda3\\lib\\site-packages\\gensim\\models\\base_any2vec.py:743: UserWarning: C extension not loaded, training will be slow. Install a C compiler and reinstall gensim for fast training.\n",
      "  \"C extension not loaded, training will be slow. \"\n"
     ]
    }
   ],
   "source": [
    "from gensim.models import Word2Vec\n",
    "\n",
    "sentence=[[\"cat\", \"say\", \"meow\"], [\"dog\", \"say\", \"woof\"]]\n",
    "model = Word2Vec(sentence,min_count=1,size=10)\n",
    "vector = model.wv['cat']\n",
    "print(vector)\n",
    "vector = model.wv['dog']\n",
    "print(vector)\n",
    "vector = model.wv['say']\n",
    "print(vector)\n",
    "# print(len(vector))"
   ]
  },
  {
   "cell_type": "code",
   "execution_count": null,
   "metadata": {},
   "outputs": [],
   "source": []
  }
 ],
 "metadata": {
  "kernelspec": {
   "display_name": "Python 3",
   "language": "python",
   "name": "python3"
  },
  "language_info": {
   "codemirror_mode": {
    "name": "ipython",
    "version": 3
   },
   "file_extension": ".py",
   "mimetype": "text/x-python",
   "name": "python",
   "nbconvert_exporter": "python",
   "pygments_lexer": "ipython3",
   "version": "3.7.3"
  }
 },
 "nbformat": 4,
 "nbformat_minor": 2
}
