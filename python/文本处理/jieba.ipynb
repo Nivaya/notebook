{
 "cells": [
  {
   "cell_type": "code",
   "execution_count": 6,
   "metadata": {},
   "outputs": [],
   "source": [
    "import jieba\n",
    "import jieba.posseg as pseg"
   ]
  },
  {
   "cell_type": "code",
   "execution_count": 8,
   "metadata": {},
   "outputs": [
    {
     "data": {
      "text/plain": [
       "['欢迎',\n",
       " '任何',\n",
       " '形式',\n",
       " '的',\n",
       " '转载',\n",
       " '，',\n",
       " '但',\n",
       " '请',\n",
       " '务必',\n",
       " '注明',\n",
       " '出处',\n",
       " '。',\n",
       " '限于',\n",
       " '本人',\n",
       " '水平',\n",
       " '，',\n",
       " '如果',\n",
       " '文章',\n",
       " '和',\n",
       " '代码',\n",
       " '有',\n",
       " '表述',\n",
       " '不当之处',\n",
       " '，',\n",
       " '还',\n",
       " '请',\n",
       " '不吝赐教',\n",
       " '。']"
      ]
     },
     "execution_count": 8,
     "metadata": {},
     "output_type": "execute_result"
    }
   ],
   "source": [
    "s = '欢迎任何形式的转载，但请务必注明出处。限于本人水平，如果文章和代码有表述不当之处，还请不吝赐教。'\n",
    "\n",
    "seg = jieba.cut(s, cut_all=False)\n",
    "[x for x in seg]"
   ]
  },
  {
   "cell_type": "code",
   "execution_count": null,
   "metadata": {},
   "outputs": [],
   "source": []
  }
 ],
 "metadata": {
  "kernelspec": {
   "display_name": "Python 3",
   "language": "python",
   "name": "python3"
  },
  "language_info": {
   "codemirror_mode": {
    "name": "ipython",
    "version": 3
   },
   "file_extension": ".py",
   "mimetype": "text/x-python",
   "name": "python",
   "nbconvert_exporter": "python",
   "pygments_lexer": "ipython3",
   "version": "3.7.3"
  }
 },
 "nbformat": 4,
 "nbformat_minor": 2
}
