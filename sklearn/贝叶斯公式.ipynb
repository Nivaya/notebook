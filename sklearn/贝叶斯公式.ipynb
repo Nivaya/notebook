{
 "cells": [
  {
   "cell_type": "markdown",
   "metadata": {},
   "source": [
    "# 贝叶斯公式"
   ]
  },
  {
   "cell_type": "markdown",
   "metadata": {},
   "source": [
    "## P(A|B)=P(B|A)*P(A)/P(B)##"
   ]
  },
  {
   "cell_type": "markdown",
   "metadata": {},
   "source": [
    "+ Pr(A)是A的先验概率或边缘概率。之所以称为\"先验\"是因为它不考虑任何B方面的因素。\n",
    "+ Pr(A|B)是已知B发生后A的条件概率，也由于得自B的取值而被称作A的后验概率。\n",
    "+ Pr(B|A)是已知A发生后B的条件概率，也由于得自A的取值而被称作B的后验概率。\n",
    "+ Pr(B)是B的先验概率或边缘概率，也作标准化常量（normalized constant）。\n",
    "\n",
    "P(A|B,C)=P(B|A)*P(A)*P(C|A,B)/(P(B)*P(C|B))"
   ]
  },
  {
   "cell_type": "markdown",
   "metadata": {},
   "source": [
    "**例如：一座别墅在过去的 20 年里一共发生过 2 次被盗，别墅的主人有一条狗，狗平均每周晚上叫 3 次，在盗贼入侵时狗叫的概率被估计为 0.9，问题是：在狗叫的时候发生入侵的概率是多少？**\n",
    "\n",
    "我们假设 A 事件为狗在晚上叫，B 为盗贼入侵，则以天为单位统计，P(A) = 3/7，P(B) = 2/(20*365) = 2/7300，P(A|B) = 0.9，按照公式很容易得出结果：P(B|A) = 0.9*(2/7300) / (3/7) = 0.00058"
   ]
  },
  {
   "cell_type": "markdown",
   "metadata": {},
   "source": [
    "**现分别有 A、B 两个容器，在容器 A 里分别有 7 个红球和 3 个白球，在容器 B 里有 1 个红球和 9 个白球，现已知从这两个容器里任意抽出了一个红球，问这个球来自容器 A 的概率是多少?**\n",
    "\n",
    "假设已经抽出红球为事件 B，选中容器 A 为事件 A，则有：P(B) = 8/20，P(A) = 1/2，P(B|A) = 7/10，按照公式，则有：P(A|B) = (7/10)*(1/2) / (8/20) = 0.875"
   ]
  },
  {
   "cell_type": "markdown",
   "metadata": {},
   "source": [
    "# 概率"
   ]
  },
  {
   "cell_type": "markdown",
   "metadata": {},
   "source": [
    "+ P(A∩B)=A与B同时发生的概率\n",
    "+ P(A∪B)=A或B发生的概率（即PA+PB）\n",
    "+ P(AB)＝P(A∩B)\n",
    "+ P(A+B)＝P(A∪B)\n",
    "+ P(A∩B) = P(A)*P(B|A)=P(B)*P(A|B)"
   ]
  },
  {
   "cell_type": "code",
   "execution_count": null,
   "metadata": {},
   "outputs": [],
   "source": []
  }
 ],
 "metadata": {
  "kernelspec": {
   "display_name": "Python 3",
   "language": "python",
   "name": "python3"
  },
  "language_info": {
   "codemirror_mode": {
    "name": "ipython",
    "version": 3
   },
   "file_extension": ".py",
   "mimetype": "text/x-python",
   "name": "python",
   "nbconvert_exporter": "python",
   "pygments_lexer": "ipython3",
   "version": "3.7.3"
  }
 },
 "nbformat": 4,
 "nbformat_minor": 2
}
