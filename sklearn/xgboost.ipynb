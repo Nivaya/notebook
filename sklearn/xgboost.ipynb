{
 "cells": [
  {
   "cell_type": "code",
   "execution_count": 1,
   "metadata": {},
   "outputs": [],
   "source": [
    "# import xgboost as xgb\n",
    "# import pandas as pd\n",
    "# import numpy as np\n",
    "# import pickle\n",
    "# import sys\n",
    "# import matplotlib.pyplot as plt\n",
    "# from sklearn.metrics import mean_absolute_error, make_scorer\n",
    "# from sklearn.preprocessing import StandardScaler\n",
    "# from sklearn.model_selection import GridSearchCV\n",
    "# from scipy.sparse import csr_matrix, hstack\n",
    "# from sklearn.model_selection import train_test_split, KFold\n",
    "# from xgboost import XGBRegressor\n",
    "\n",
    "# import warnings\n",
    "# warnings.filterwarnings('ignore')"
   ]
  },
  {
   "cell_type": "code",
   "execution_count": 1,
   "metadata": {},
   "outputs": [],
   "source": [
    "import pandas as pd\n",
    "import numpy as np\n",
    "import matplotlib.pyplot as plt\n",
    "    \n",
    "from sklearn.linear_model import LogisticRegression\n",
    "from sklearn.ensemble import RandomForestClassifier\n",
    "from sklearn.metrics import roc_auc_score as AUC\n",
    "from sklearn.metrics import mean_absolute_error\n",
    "from sklearn.decomposition import PCA\n",
    "from sklearn.preprocessing import LabelEncoder, LabelBinarizer\n",
    "from sklearn.model_selection import cross_val_score\n",
    "\n",
    "from copy import deepcopy"
   ]
  },
  {
   "cell_type": "code",
   "execution_count": 2,
   "metadata": {},
   "outputs": [],
   "source": [
    "train = pd.read_csv('examples/Allstate-Claims-Severity/train.csv')\n",
    "test = pd.read_csv('examples/Allstate-Claims-Severity/test.csv')"
   ]
  },
  {
   "cell_type": "code",
   "execution_count": 3,
   "metadata": {},
   "outputs": [
    {
     "data": {
      "text/plain": [
       "(188318, 132)"
      ]
     },
     "execution_count": 3,
     "metadata": {},
     "output_type": "execute_result"
    }
   ],
   "source": [
    "train.shape"
   ]
  },
  {
   "cell_type": "code",
   "execution_count": 4,
   "metadata": {},
   "outputs": [
    {
     "name": "stdout",
     "output_type": "stream",
     "text": [
      "first 20 cols: ['id', 'cat1', 'cat2', 'cat3', 'cat4', 'cat5', 'cat6', 'cat7', 'cat8', 'cat9', 'cat10', 'cat11', 'cat12', 'cat13', 'cat14', 'cat15', 'cat16', 'cat17', 'cat18', 'cat19']\n",
      "last 20 cols: ['cat112', 'cat113', 'cat114', 'cat115', 'cat116', 'cont1', 'cont2', 'cont3', 'cont4', 'cont5', 'cont6', 'cont7', 'cont8', 'cont9', 'cont10', 'cont11', 'cont12', 'cont13', 'cont14', 'loss']\n"
     ]
    }
   ],
   "source": [
    "print('first 20 cols:', list(train.columns[:20]))\n",
    "print('last 20 cols:', list(train.columns[-20:]))"
   ]
  },
  {
   "cell_type": "code",
   "execution_count": 5,
   "metadata": {},
   "outputs": [
    {
     "data": {
      "text/html": [
       "<div>\n",
       "<style scoped>\n",
       "    .dataframe tbody tr th:only-of-type {\n",
       "        vertical-align: middle;\n",
       "    }\n",
       "\n",
       "    .dataframe tbody tr th {\n",
       "        vertical-align: top;\n",
       "    }\n",
       "\n",
       "    .dataframe thead th {\n",
       "        text-align: right;\n",
       "    }\n",
       "</style>\n",
       "<table border=\"1\" class=\"dataframe\">\n",
       "  <thead>\n",
       "    <tr style=\"text-align: right;\">\n",
       "      <th></th>\n",
       "      <th>id</th>\n",
       "      <th>cont1</th>\n",
       "      <th>cont2</th>\n",
       "      <th>cont3</th>\n",
       "      <th>cont4</th>\n",
       "      <th>cont5</th>\n",
       "      <th>cont6</th>\n",
       "      <th>cont7</th>\n",
       "      <th>cont8</th>\n",
       "      <th>cont9</th>\n",
       "      <th>cont10</th>\n",
       "      <th>cont11</th>\n",
       "      <th>cont12</th>\n",
       "      <th>cont13</th>\n",
       "      <th>cont14</th>\n",
       "      <th>loss</th>\n",
       "    </tr>\n",
       "  </thead>\n",
       "  <tbody>\n",
       "    <tr>\n",
       "      <th>count</th>\n",
       "      <td>188318.000000</td>\n",
       "      <td>188318.000000</td>\n",
       "      <td>188318.000000</td>\n",
       "      <td>188318.000000</td>\n",
       "      <td>188318.000000</td>\n",
       "      <td>188318.000000</td>\n",
       "      <td>188318.000000</td>\n",
       "      <td>188318.000000</td>\n",
       "      <td>188318.000000</td>\n",
       "      <td>188318.000000</td>\n",
       "      <td>188318.000000</td>\n",
       "      <td>188318.000000</td>\n",
       "      <td>188318.000000</td>\n",
       "      <td>188318.000000</td>\n",
       "      <td>188318.000000</td>\n",
       "      <td>188318.000000</td>\n",
       "    </tr>\n",
       "    <tr>\n",
       "      <th>mean</th>\n",
       "      <td>294135.982561</td>\n",
       "      <td>0.493861</td>\n",
       "      <td>0.507188</td>\n",
       "      <td>0.498918</td>\n",
       "      <td>0.491812</td>\n",
       "      <td>0.487428</td>\n",
       "      <td>0.490945</td>\n",
       "      <td>0.484970</td>\n",
       "      <td>0.486437</td>\n",
       "      <td>0.485506</td>\n",
       "      <td>0.498066</td>\n",
       "      <td>0.493511</td>\n",
       "      <td>0.493150</td>\n",
       "      <td>0.493138</td>\n",
       "      <td>0.495717</td>\n",
       "      <td>3037.337686</td>\n",
       "    </tr>\n",
       "    <tr>\n",
       "      <th>std</th>\n",
       "      <td>169336.084867</td>\n",
       "      <td>0.187640</td>\n",
       "      <td>0.207202</td>\n",
       "      <td>0.202105</td>\n",
       "      <td>0.211292</td>\n",
       "      <td>0.209027</td>\n",
       "      <td>0.205273</td>\n",
       "      <td>0.178450</td>\n",
       "      <td>0.199370</td>\n",
       "      <td>0.181660</td>\n",
       "      <td>0.185877</td>\n",
       "      <td>0.209737</td>\n",
       "      <td>0.209427</td>\n",
       "      <td>0.212777</td>\n",
       "      <td>0.222488</td>\n",
       "      <td>2904.086186</td>\n",
       "    </tr>\n",
       "    <tr>\n",
       "      <th>min</th>\n",
       "      <td>1.000000</td>\n",
       "      <td>0.000016</td>\n",
       "      <td>0.001149</td>\n",
       "      <td>0.002634</td>\n",
       "      <td>0.176921</td>\n",
       "      <td>0.281143</td>\n",
       "      <td>0.012683</td>\n",
       "      <td>0.069503</td>\n",
       "      <td>0.236880</td>\n",
       "      <td>0.000080</td>\n",
       "      <td>0.000000</td>\n",
       "      <td>0.035321</td>\n",
       "      <td>0.036232</td>\n",
       "      <td>0.000228</td>\n",
       "      <td>0.179722</td>\n",
       "      <td>0.670000</td>\n",
       "    </tr>\n",
       "    <tr>\n",
       "      <th>25%</th>\n",
       "      <td>147748.250000</td>\n",
       "      <td>0.346090</td>\n",
       "      <td>0.358319</td>\n",
       "      <td>0.336963</td>\n",
       "      <td>0.327354</td>\n",
       "      <td>0.281143</td>\n",
       "      <td>0.336105</td>\n",
       "      <td>0.350175</td>\n",
       "      <td>0.312800</td>\n",
       "      <td>0.358970</td>\n",
       "      <td>0.364580</td>\n",
       "      <td>0.310961</td>\n",
       "      <td>0.311661</td>\n",
       "      <td>0.315758</td>\n",
       "      <td>0.294610</td>\n",
       "      <td>1204.460000</td>\n",
       "    </tr>\n",
       "    <tr>\n",
       "      <th>50%</th>\n",
       "      <td>294539.500000</td>\n",
       "      <td>0.475784</td>\n",
       "      <td>0.555782</td>\n",
       "      <td>0.527991</td>\n",
       "      <td>0.452887</td>\n",
       "      <td>0.422268</td>\n",
       "      <td>0.440945</td>\n",
       "      <td>0.438285</td>\n",
       "      <td>0.441060</td>\n",
       "      <td>0.441450</td>\n",
       "      <td>0.461190</td>\n",
       "      <td>0.457203</td>\n",
       "      <td>0.462286</td>\n",
       "      <td>0.363547</td>\n",
       "      <td>0.407403</td>\n",
       "      <td>2115.570000</td>\n",
       "    </tr>\n",
       "    <tr>\n",
       "      <th>75%</th>\n",
       "      <td>440680.500000</td>\n",
       "      <td>0.623912</td>\n",
       "      <td>0.681761</td>\n",
       "      <td>0.634224</td>\n",
       "      <td>0.652072</td>\n",
       "      <td>0.643315</td>\n",
       "      <td>0.655021</td>\n",
       "      <td>0.591045</td>\n",
       "      <td>0.623580</td>\n",
       "      <td>0.566820</td>\n",
       "      <td>0.614590</td>\n",
       "      <td>0.678924</td>\n",
       "      <td>0.675759</td>\n",
       "      <td>0.689974</td>\n",
       "      <td>0.724623</td>\n",
       "      <td>3864.045000</td>\n",
       "    </tr>\n",
       "    <tr>\n",
       "      <th>max</th>\n",
       "      <td>587633.000000</td>\n",
       "      <td>0.984975</td>\n",
       "      <td>0.862654</td>\n",
       "      <td>0.944251</td>\n",
       "      <td>0.954297</td>\n",
       "      <td>0.983674</td>\n",
       "      <td>0.997162</td>\n",
       "      <td>1.000000</td>\n",
       "      <td>0.980200</td>\n",
       "      <td>0.995400</td>\n",
       "      <td>0.994980</td>\n",
       "      <td>0.998742</td>\n",
       "      <td>0.998484</td>\n",
       "      <td>0.988494</td>\n",
       "      <td>0.844848</td>\n",
       "      <td>121012.250000</td>\n",
       "    </tr>\n",
       "  </tbody>\n",
       "</table>\n",
       "</div>"
      ],
      "text/plain": [
       "                  id          cont1          cont2          cont3  \\\n",
       "count  188318.000000  188318.000000  188318.000000  188318.000000   \n",
       "mean   294135.982561       0.493861       0.507188       0.498918   \n",
       "std    169336.084867       0.187640       0.207202       0.202105   \n",
       "min         1.000000       0.000016       0.001149       0.002634   \n",
       "25%    147748.250000       0.346090       0.358319       0.336963   \n",
       "50%    294539.500000       0.475784       0.555782       0.527991   \n",
       "75%    440680.500000       0.623912       0.681761       0.634224   \n",
       "max    587633.000000       0.984975       0.862654       0.944251   \n",
       "\n",
       "               cont4          cont5          cont6          cont7  \\\n",
       "count  188318.000000  188318.000000  188318.000000  188318.000000   \n",
       "mean        0.491812       0.487428       0.490945       0.484970   \n",
       "std         0.211292       0.209027       0.205273       0.178450   \n",
       "min         0.176921       0.281143       0.012683       0.069503   \n",
       "25%         0.327354       0.281143       0.336105       0.350175   \n",
       "50%         0.452887       0.422268       0.440945       0.438285   \n",
       "75%         0.652072       0.643315       0.655021       0.591045   \n",
       "max         0.954297       0.983674       0.997162       1.000000   \n",
       "\n",
       "               cont8          cont9         cont10         cont11  \\\n",
       "count  188318.000000  188318.000000  188318.000000  188318.000000   \n",
       "mean        0.486437       0.485506       0.498066       0.493511   \n",
       "std         0.199370       0.181660       0.185877       0.209737   \n",
       "min         0.236880       0.000080       0.000000       0.035321   \n",
       "25%         0.312800       0.358970       0.364580       0.310961   \n",
       "50%         0.441060       0.441450       0.461190       0.457203   \n",
       "75%         0.623580       0.566820       0.614590       0.678924   \n",
       "max         0.980200       0.995400       0.994980       0.998742   \n",
       "\n",
       "              cont12         cont13         cont14           loss  \n",
       "count  188318.000000  188318.000000  188318.000000  188318.000000  \n",
       "mean        0.493150       0.493138       0.495717    3037.337686  \n",
       "std         0.209427       0.212777       0.222488    2904.086186  \n",
       "min         0.036232       0.000228       0.179722       0.670000  \n",
       "25%         0.311661       0.315758       0.294610    1204.460000  \n",
       "50%         0.462286       0.363547       0.407403    2115.570000  \n",
       "75%         0.675759       0.689974       0.724623    3864.045000  \n",
       "max         0.998484       0.988494       0.844848  121012.250000  "
      ]
     },
     "execution_count": 5,
     "metadata": {},
     "output_type": "execute_result"
    }
   ],
   "source": [
    "train.describe()"
   ]
  },
  {
   "cell_type": "code",
   "execution_count": 6,
   "metadata": {},
   "outputs": [
    {
     "data": {
      "text/plain": [
       "False"
      ]
     },
     "execution_count": 6,
     "metadata": {},
     "output_type": "execute_result"
    }
   ],
   "source": [
    "pd.isnull(train).values.any()"
   ]
  },
  {
   "cell_type": "code",
   "execution_count": 7,
   "metadata": {},
   "outputs": [
    {
     "name": "stdout",
     "output_type": "stream",
     "text": [
      "<class 'pandas.core.frame.DataFrame'>\n",
      "RangeIndex: 188318 entries, 0 to 188317\n",
      "Columns: 132 entries, id to loss\n",
      "dtypes: float64(15), int64(1), object(116)\n",
      "memory usage: 189.7+ MB\n"
     ]
    }
   ],
   "source": [
    "train.info()"
   ]
  },
  {
   "cell_type": "code",
   "execution_count": 12,
   "metadata": {},
   "outputs": [
    {
     "data": {
      "text/plain": [
       "116"
      ]
     },
     "execution_count": 12,
     "metadata": {},
     "output_type": "execute_result"
    }
   ],
   "source": [
    "# float64(15)是连续特征,int64(1),object(116)为离散特征\n",
    "\n",
    "cat_features = list(train.select_dtypes(include=['object']).columns)\n",
    "len(cat_features)"
   ]
  },
  {
   "cell_type": "code",
   "execution_count": 14,
   "metadata": {},
   "outputs": [
    {
     "data": {
      "text/plain": [
       "14"
      ]
     },
     "execution_count": 14,
     "metadata": {},
     "output_type": "execute_result"
    }
   ],
   "source": [
    "cont_features = [\n",
    "    cont for cont in list(\n",
    "        train.select_dtypes(include=['float64', 'int64']).columns)\n",
    "    if cont not in ['id', 'loss']\n",
    "]\n",
    "len(cont_features)"
   ]
  },
  {
   "cell_type": "code",
   "execution_count": 15,
   "metadata": {},
   "outputs": [
    {
     "data": {
      "text/plain": [
       "['id']"
      ]
     },
     "execution_count": 15,
     "metadata": {},
     "output_type": "execute_result"
    }
   ],
   "source": [
    "id_col = list(train.select_dtypes(include=['int64']).columns)\n",
    "id_col"
   ]
  },
  {
   "cell_type": "code",
   "execution_count": 8,
   "metadata": {},
   "outputs": [],
   "source": [
    "cat_uniques=[]\n",
    "for cat in cat_"
   ]
  },
  {
   "cell_type": "code",
   "execution_count": null,
   "metadata": {},
   "outputs": [],
   "source": []
  }
 ],
 "metadata": {
  "kernelspec": {
   "display_name": "Python 3",
   "language": "python",
   "name": "python3"
  },
  "language_info": {
   "codemirror_mode": {
    "name": "ipython",
    "version": 3
   },
   "file_extension": ".py",
   "mimetype": "text/x-python",
   "name": "python",
   "nbconvert_exporter": "python",
   "pygments_lexer": "ipython3",
   "version": "3.7.3"
  }
 },
 "nbformat": 4,
 "nbformat_minor": 2
}
